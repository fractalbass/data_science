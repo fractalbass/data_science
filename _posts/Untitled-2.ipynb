{
 "cells": [
  {
   "cell_type": "code",
   "execution_count": 3,
   "metadata": {},
   "outputs": [
    {
     "name": "stdout",
     "output_type": "stream",
     "text": [
      "tensor([0.1606, 1.1803], grad_fn=<EmbeddingBackward0>)\n"
     ]
    }
   ],
   "source": [
    "import torch\n",
    "import torch.nn as nn\n",
    "\n",
    "n_users = 5\n",
    "n_factors = 2\n",
    "\n",
    "# Create an embedding layer\n",
    "user_embedding = nn.Embedding(n_users, n_factors)\n",
    "\n",
    "# Get the embedding for user 2\n",
    "user_2_index = torch.tensor(2)\n",
    "user_2_embedding = user_embedding(user_2_index)\n",
    "\n",
    "print(user_2_embedding)"
   ]
  },
  {
   "cell_type": "code",
   "execution_count": 8,
   "metadata": {},
   "outputs": [
    {
     "name": "stdout",
     "output_type": "stream",
     "text": [
      "Parameter containing:\n",
      "tensor([[-0.4045,  0.8017],\n",
      "        [ 1.5328,  0.4648],\n",
      "        [ 0.1606,  1.1803],\n",
      "        [-0.5082, -1.9522],\n",
      "        [-1.3294, -1.5062]], requires_grad=True)\n"
     ]
    }
   ],
   "source": [
    "print(user_embedding.weight)"
   ]
  }
 ],
 "metadata": {
  "kernelspec": {
   "display_name": "venv",
   "language": "python",
   "name": "python3"
  },
  "language_info": {
   "codemirror_mode": {
    "name": "ipython",
    "version": 3
   },
   "file_extension": ".py",
   "mimetype": "text/x-python",
   "name": "python",
   "nbconvert_exporter": "python",
   "pygments_lexer": "ipython3",
   "version": "3.9.17"
  }
 },
 "nbformat": 4,
 "nbformat_minor": 2
}
